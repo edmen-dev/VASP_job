{
 "cells": [
  {
   "cell_type": "code",
   "execution_count": 4,
   "metadata": {},
   "outputs": [
    {
     "ename": "ModuleNotFoundError",
     "evalue": "No module named 'VASP_job'",
     "output_type": "error",
     "traceback": [
      "\u001b[0;31m---------------------------------------------------------------------------\u001b[0m",
      "\u001b[0;31mModuleNotFoundError\u001b[0m                       Traceback (most recent call last)",
      "\u001b[0;32m/tmp/ipykernel_3210/1207877382.py\u001b[0m in \u001b[0;36m<module>\u001b[0;34m\u001b[0m\n\u001b[1;32m      3\u001b[0m \u001b[0;32mfrom\u001b[0m \u001b[0mdataclasses\u001b[0m \u001b[0;32mimport\u001b[0m \u001b[0mdataclass\u001b[0m\u001b[0;34m,\u001b[0m \u001b[0mfields\u001b[0m\u001b[0;34m\u001b[0m\u001b[0;34m\u001b[0m\u001b[0m\n\u001b[1;32m      4\u001b[0m \u001b[0;34m\u001b[0m\u001b[0m\n\u001b[0;32m----> 5\u001b[0;31m \u001b[0;32mfrom\u001b[0m \u001b[0mVASP_job\u001b[0m\u001b[0;34m.\u001b[0m\u001b[0mmain\u001b[0m \u001b[0;32mimport\u001b[0m \u001b[0mVASP_job\u001b[0m\u001b[0;34m\u001b[0m\u001b[0;34m\u001b[0m\u001b[0m\n\u001b[0m",
      "\u001b[0;31mModuleNotFoundError\u001b[0m: No module named 'VASP_job'"
     ]
    }
   ],
   "source": [
    "import os\n",
    "import numpy as np\n",
    "from dataclasses import dataclass, fields\n",
    "\n",
    "from VASP_job.main import VASP_job"
   ]
  },
  {
   "cell_type": "code",
   "execution_count": 3,
   "metadata": {},
   "outputs": [
    {
     "name": "stdout",
     "output_type": "stream",
     "text": [
      "SYSTEM\n",
      "my material #jobname\n",
      "PREC\n",
      "Accurate\n",
      "ALGO\n",
      "Fast\n",
      "NPAR\n",
      "8\n",
      "LREAL\n",
      ".FALSE.\n",
      "LWAVE\n",
      ".FALSE.\n",
      "LCHARG\n",
      ".TRUE.\n",
      "LORBIT\n",
      "10\n",
      "ISMEAR\n",
      "1\n",
      "SIGMA\n",
      "0.03\n",
      "ISTART\n",
      "0\n",
      "ICHARG\n",
      "2\n",
      "ISPIN\n",
      "2\n",
      "ENCUT\n",
      "500\n",
      "EDIFF\n",
      "1e-6\n",
      "NELM\n",
      "200\n",
      "LMAXMIX\n",
      "6\n",
      "LNONCOLLINEAR\n",
      ".TRUE.\n"
     ]
    }
   ],
   "source": [
    "from VASP_inputs import RWIGS_parameters, standard_INCAR_parameters, constr_INCAR_parameters\n",
    "for field in fields(standard_INCAR_parameters):\n",
    "    print(field.name)\n",
    "    print(getattr(standard_INCAR_parameters, field.name))"
   ]
  },
  {
   "cell_type": "code",
   "execution_count": 23,
   "metadata": {},
   "outputs": [
    {
     "name": "stdout",
     "output_type": "stream",
     "text": [
      "1.323as\n"
     ]
    }
   ],
   "source": [
    "print(getattr(RWIGS_parameters, 'Mn')+ 'as') "
   ]
  },
  {
   "cell_type": "code",
   "execution_count": 7,
   "metadata": {},
   "outputs": [],
   "source": [
    "from VASP_inputs import RWIGS_parameters, standard_INCAR_parameters, constr_INCAR_parameters, constr_INCAR_parameters_flag5\n",
    "\n",
    "class inputs:\n",
    "    \"\"\"\n",
    "    Class to set different VASP inputs.\n",
    "    First set defaults from default_inputs\n",
    "    \"\"\"\n",
    "\n",
    "    def __init__(self):\n",
    "        \"\"\"\n",
    "        dictionary_RWIGS and dictionary_standard_INCAR_parameters are dictionaries\n",
    "        containing input information for RWIGS and standard variables in INCAR, respectively.\n",
    "        \"\"\"\n",
    "        self.default_inputs = default_inputs()\n",
    "\n",
    "        # property: automatically calls getters and setters accordingly \n",
    "        self._dictionary_RWIGS = self.default_inputs.dictionary_RWIGS.copy()\n",
    "        self._dictionary_standard_INCAR_parameters = self.default_inputs.dictionary_standard_INCAR_parameters.copy()\n",
    "        return\n",
    "\n",
    "    @property\n",
    "    def dictionary_RWIGS(self):\n",
    "        return self._dictionary_RWIGS\n",
    "\n",
    "    @property\n",
    "    def dictionary_standard_INCAR_parameters(self):\n",
    "        return self._dictionary_standard_INCAR_parameters"
   ]
  },
  {
   "cell_type": "code",
   "execution_count": 8,
   "metadata": {},
   "outputs": [
    {
     "ename": "TypeError",
     "evalue": "'dict' object is not callable",
     "output_type": "error",
     "traceback": [
      "\u001b[0;31m---------------------------------------------------------------------------\u001b[0m",
      "\u001b[0;31mTypeError\u001b[0m                                 Traceback (most recent call last)",
      "\u001b[0;32m/tmp/ipykernel_2967/3424990011.py\u001b[0m in \u001b[0;36m<module>\u001b[0;34m\u001b[0m\n\u001b[0;32m----> 1\u001b[0;31m \u001b[0mmy_inputs\u001b[0m \u001b[0;34m=\u001b[0m \u001b[0minputs\u001b[0m\u001b[0;34m(\u001b[0m\u001b[0;34m)\u001b[0m\u001b[0;34m\u001b[0m\u001b[0;34m\u001b[0m\u001b[0m\n\u001b[0m\u001b[1;32m      2\u001b[0m \u001b[0;31m# my_inputs._dictionary_RWIGS['Mn'] = '1.222'\u001b[0m\u001b[0;34m\u001b[0m\u001b[0;34m\u001b[0m\u001b[0m\n\u001b[1;32m      3\u001b[0m \u001b[0mmy_inputs\u001b[0m\u001b[0;34m.\u001b[0m\u001b[0m_dictionary_RWIGS\u001b[0m\u001b[0;34m[\u001b[0m\u001b[0;34m'Mn'\u001b[0m\u001b[0;34m]\u001b[0m\u001b[0;34m\u001b[0m\u001b[0;34m\u001b[0m\u001b[0m\n",
      "\u001b[0;32m/tmp/ipykernel_2967/3476336790.py\u001b[0m in \u001b[0;36m__init__\u001b[0;34m(self)\u001b[0m\n\u001b[1;32m     12\u001b[0m         \u001b[0mcontaining\u001b[0m \u001b[0minput\u001b[0m \u001b[0minformation\u001b[0m \u001b[0;32mfor\u001b[0m \u001b[0mRWIGS\u001b[0m \u001b[0;32mand\u001b[0m \u001b[0mstandard\u001b[0m \u001b[0mvariables\u001b[0m \u001b[0;32min\u001b[0m \u001b[0mINCAR\u001b[0m\u001b[0;34m,\u001b[0m \u001b[0mrespectively\u001b[0m\u001b[0;34m.\u001b[0m\u001b[0;34m\u001b[0m\u001b[0;34m\u001b[0m\u001b[0m\n\u001b[1;32m     13\u001b[0m         \"\"\"\n\u001b[0;32m---> 14\u001b[0;31m         \u001b[0mself\u001b[0m\u001b[0;34m.\u001b[0m\u001b[0mdefault_inputs\u001b[0m \u001b[0;34m=\u001b[0m \u001b[0mdefault_inputs\u001b[0m\u001b[0;34m(\u001b[0m\u001b[0;34m)\u001b[0m\u001b[0;34m\u001b[0m\u001b[0;34m\u001b[0m\u001b[0m\n\u001b[0m\u001b[1;32m     15\u001b[0m \u001b[0;34m\u001b[0m\u001b[0m\n\u001b[1;32m     16\u001b[0m         \u001b[0;31m# property: automatically calls getters and setters accordingly\u001b[0m\u001b[0;34m\u001b[0m\u001b[0;34m\u001b[0m\u001b[0m\n",
      "\u001b[0;32m/mnt/c/Users/emend/Universitat de Barcelona/Materials i transicions de fase (Departament FMC) - Eduardo Mendive Tapia/workbench/devel/gitclones/VASP_job/default_inputs.py\u001b[0m in \u001b[0;36m__init__\u001b[0;34m(self, dictionary_RWIGS, dictionary_standard_INCAR_parameters, dictionary_constr_INCAR_parameters, dictionary_constr_INCAR_parameters_flag5)\u001b[0m\n",
      "\u001b[0;31mTypeError\u001b[0m: 'dict' object is not callable"
     ]
    }
   ],
   "source": [
    "my_inputs = inputs()\n",
    "# my_inputs._dictionary_RWIGS['Mn'] = '1.222'\n",
    "my_inputs._dictionary_RWIGS['Mn']"
   ]
  },
  {
   "cell_type": "code",
   "execution_count": 7,
   "metadata": {},
   "outputs": [],
   "source": [
    "class VASP_job:\n",
    "    \"\"\"\n",
    "    Main functionality of the module.\n",
    "    \"\"\"\n",
    "\n",
    "    def __init__(self,\n",
    "                executable_path=os.path.expanduser('~') + '/workbench/devel/codes/VASP/vasp.5.4.4/bin/',\n",
    "                executable_name='vasp_ncl',\n",
    "                output_file_name='out',\n",
    "                verbose='normal'):\n",
    "    \n",
    "        # Check on chosen verbose\n",
    "        if verbose != 'low' and verbose != 'normal' and verbose != 'high':\n",
    "            print('WARNING: be aware that you have not selected an available value for verbose.')\n",
    "            self._verbose = 'normal'\n",
    "            print('verbose has been set to default: normal')\n",
    "        else:\n",
    "            self._verbose = verbose\n",
    "\n",
    "        # Checking path for the executables\n",
    "        # Fixing \"/\" in the executable path if necessary\n",
    "        if executable_path[-1] != '/':\n",
    "            self._executable_path = executable_path + '/'\n",
    "        else:\n",
    "            self._executable_path = executable_path\n",
    "\n",
    "    "
   ]
  },
  {
   "cell_type": "code",
   "execution_count": 10,
   "metadata": {},
   "outputs": [
    {
     "data": {
      "text/plain": [
       "'normal'"
      ]
     },
     "execution_count": 10,
     "metadata": {},
     "output_type": "execute_result"
    }
   ],
   "source": [
    "my_VASP_job = VASP_job()\n",
    "my_VASP_job.verbose = 'high'\n",
    "my_VASP_job.verbose\n",
    "my_VASP_job._verbose"
   ]
  },
  {
   "cell_type": "code",
   "execution_count": 12,
   "metadata": {},
   "outputs": [
    {
     "data": {
      "text/plain": [
       "'high'"
      ]
     },
     "execution_count": 12,
     "metadata": {},
     "output_type": "execute_result"
    }
   ],
   "source": [
    "my_VASP_job = VASP_job()\n",
    "my_VASP_job._verbose = 'high'\n",
    "my_VASP_job._verbose"
   ]
  },
  {
   "cell_type": "code",
   "execution_count": 13,
   "metadata": {},
   "outputs": [
    {
     "ename": "NameError",
     "evalue": "name 'output_file_name' is not defined",
     "output_type": "error",
     "traceback": [
      "\u001b[0;31m---------------------------------------------------------------------------\u001b[0m",
      "\u001b[0;31mNameError\u001b[0m                                 Traceback (most recent call last)",
      "\u001b[0;32m/tmp/ipykernel_2253/3527875180.py\u001b[0m in \u001b[0;36m<module>\u001b[0;34m\u001b[0m\n\u001b[0;32m----> 1\u001b[0;31m \u001b[0moutput_file_name\u001b[0m\u001b[0;34m\u001b[0m\u001b[0;34m\u001b[0m\u001b[0m\n\u001b[0m",
      "\u001b[0;31mNameError\u001b[0m: name 'output_file_name' is not defined"
     ]
    }
   ],
   "source": [
    "output_file_name"
   ]
  }
 ],
 "metadata": {
  "kernelspec": {
   "display_name": "work",
   "language": "python",
   "name": "python3"
  },
  "language_info": {
   "codemirror_mode": {
    "name": "ipython",
    "version": 3
   },
   "file_extension": ".py",
   "mimetype": "text/x-python",
   "name": "python",
   "nbconvert_exporter": "python",
   "pygments_lexer": "ipython3",
   "version": "3.9.13"
  },
  "orig_nbformat": 4
 },
 "nbformat": 4,
 "nbformat_minor": 2
}
